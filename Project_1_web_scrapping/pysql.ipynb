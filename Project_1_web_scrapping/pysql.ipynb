{
 "cells": [
  {
   "cell_type": "code",
   "execution_count": 3,
   "id": "266d38e0-5fd2-48e9-8cf9-cd6557f0e872",
   "metadata": {},
   "outputs": [],
   "source": [
    "import pandas as pd\n",
    "from sqlalchemy import create_engine\n",
    "import pymysql"
   ]
  },
  {
   "cell_type": "code",
   "execution_count": null,
   "id": "da287146",
   "metadata": {},
   "outputs": [],
   "source": [
    "data=pd.read_csv('chandigarh_bus_details.csv',header=[0])"
   ]
  },
  {
   "cell_type": "code",
   "execution_count": 21,
   "id": "c5fe574c",
   "metadata": {},
   "outputs": [
    {
     "name": "stdout",
     "output_type": "stream",
     "text": [
      "DataFrame imported successfully!\n"
     ]
    }
   ],
   "source": [
    "# Database connection details\n",
    "host = \"localhost\"            # Replace with your MySQL server host\n",
    "port = \"3306\"\n",
    "user = \"root\"        # Replace with your MySQL username\n",
    "password = \"123456\"    # Replace with your MySQL password\n",
    "database = \"redbus\"    # Replace with the target database name\n",
    "\n",
    "# Create a SQLAlchemy engine for the connection\n",
    "#engine = create_engine(f\"mysql+mysqlconnector://{user}:{password}@{host}:{port}/{database}?auth_plugin=mysql_native_password\")\n",
    "#engine = create_engine(f\"mysql+mysqlconnector://{user}:{password}@{host}/{database}\")\n",
    "engine = create_engine(f\"mysql+pymysql://{user}:{password}@{host}:{port}/{database}\")\n",
    "\n",
    "# Import DataFrame into MySQL table\n",
    "# Replace 'your_table_name' with the name of the table you want to create/insert into\n",
    "data.to_sql('apsrtc', con=engine, if_exists='replace', index=False)\n",
    "\n",
    "print(\"DataFrame imported successfully!\")"
   ]
  },
  {
   "cell_type": "code",
   "execution_count": null,
   "id": "8cfafbe4",
   "metadata": {},
   "outputs": [],
   "source": []
  }
 ],
 "metadata": {
  "kernelspec": {
   "display_name": "base",
   "language": "python",
   "name": "python3"
  },
  "language_info": {
   "codemirror_mode": {
    "name": "ipython",
    "version": 3
   },
   "file_extension": ".py",
   "mimetype": "text/x-python",
   "name": "python",
   "nbconvert_exporter": "python",
   "pygments_lexer": "ipython3",
   "version": "3.12.4"
  }
 },
 "nbformat": 4,
 "nbformat_minor": 5
}
