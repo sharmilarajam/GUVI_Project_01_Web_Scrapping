{
 "cells": [
  {
   "cell_type": "code",
   "execution_count": 74,
   "id": "330c7422-321d-4ebb-8407-216656451503",
   "metadata": {},
   "outputs": [],
   "source": [
    "from selenium import webdriver\n",
    "from selenium.webdriver.common.by import By\n",
    "from selenium.webdriver.support.ui import WebDriverWait\n",
    "from selenium.webdriver.support import expected_conditions as EC\n",
    "import time\n",
    "import pandas as pd"
   ]
  },
  {
   "cell_type": "code",
   "execution_count": 75,
   "id": "5bfafb78-667e-4e30-af5a-3d222f367b69",
   "metadata": {},
   "outputs": [],
   "source": [
    "# URL of the website\n",
    "url = \"https://www.redbus.in/online-booking/apsrtc/?utm_source=rtchometile\"\n",
    "driver = webdriver.Chrome()\n",
    "driver.maximize_window()\n",
    "driver.get(url)\n",
    "time.sleep(5)  # Wait for the page to load"
   ]
  },
  {
   "cell_type": "code",
   "execution_count": 76,
   "id": "061fe01d-c9f5-4855-9582-856461335dee",
   "metadata": {},
   "outputs": [],
   "source": [
    "route_elements = driver.find_elements(By.CLASS_NAME, 'route')"
   ]
  },
  {
   "cell_type": "markdown",
   "id": "4fc9763f-4cee-4d2b-be80-6a7b4b04eec2",
   "metadata": {},
   "source": [
    "#### WebElement: It is a special object provided by the Selenium WebDriver that represents an element on a web page. This object provides methods and properties to interact with the web element, such as:\n",
    "\n",
    "##### click(): to click the element.\n",
    "##### text: to get the text content of the element.\n",
    "##### get_attribute(): to retrieve the value of an attribute, like href for links.\n",
    "##### is_displayed(): to check if the element is visible on the page."
   ]
  },
  {
   "cell_type": "code",
   "execution_count": 78,
   "id": "e1081d52-e43d-4718-b5d6-dac7c7619f0b",
   "metadata": {},
   "outputs": [
    {
     "name": "stdout",
     "output_type": "stream",
     "text": [
      "Hyderabad to Vijayawada\n",
      "https://www.redbus.in/bus-tickets/hyderabad-to-vijayawada\n"
     ]
    }
   ],
   "source": [
    "### example for understanding\n",
    "print(route_elements[0].text)\n",
    "print(route_elements[0].get_attribute('href'))"
   ]
  },
  {
   "cell_type": "code",
   "execution_count": 79,
   "id": "5b9a2505-4f80-4cf5-bda5-b6f8511b18c6",
   "metadata": {},
   "outputs": [],
   "source": [
    "# for i in range(len(route_elements)):\n",
    "#     print(route_elements[i].text)    "
   ]
  },
  {
   "cell_type": "code",
   "execution_count": 80,
   "id": "9e75c6b2-8883-4145-b007-d62eb5605349",
   "metadata": {},
   "outputs": [],
   "source": [
    "bus_routes_name=[i.text for i in route_elements]    "
   ]
  },
  {
   "cell_type": "code",
   "execution_count": 81,
   "id": "37b94570-3f2a-4cbf-a978-60b4e6a306b5",
   "metadata": {},
   "outputs": [
    {
     "data": {
      "text/plain": [
       "['Hyderabad to Vijayawada',\n",
       " 'Vijayawada to Hyderabad',\n",
       " 'Hyderabad to Ongole',\n",
       " 'Kakinada to Visakhapatnam',\n",
       " 'Bangalore to Tirupati',\n",
       " 'Bangalore to Kadapa',\n",
       " 'Ongole to Hyderabad',\n",
       " 'Kadapa to Bangalore',\n",
       " 'Chittoor (Andhra Pradesh) to Bangalore',\n",
       " 'Visakhapatnam to Kakinada']"
      ]
     },
     "execution_count": 81,
     "metadata": {},
     "output_type": "execute_result"
    }
   ],
   "source": [
    "bus_routes_name"
   ]
  },
  {
   "cell_type": "code",
   "execution_count": 82,
   "id": "a5df9ccd-2e0a-477c-8f7c-84f3ef7a2232",
   "metadata": {},
   "outputs": [],
   "source": [
    "bus_routes_link = [route.get_attribute('href') for route in route_elements]"
   ]
  },
  {
   "cell_type": "code",
   "execution_count": 83,
   "id": "26ae3a16-b3be-40d0-a510-efec38f596b0",
   "metadata": {},
   "outputs": [
    {
     "data": {
      "text/plain": [
       "['https://www.redbus.in/bus-tickets/hyderabad-to-vijayawada',\n",
       " 'https://www.redbus.in/bus-tickets/vijayawada-to-hyderabad',\n",
       " 'https://www.redbus.in/bus-tickets/hyderabad-to-ongole',\n",
       " 'https://www.redbus.in/bus-tickets/kakinada-to-visakhapatnam',\n",
       " 'https://www.redbus.in/bus-tickets/bangalore-to-tirupathi',\n",
       " 'https://www.redbus.in/bus-tickets/bangalore-to-kadapa',\n",
       " 'https://www.redbus.in/bus-tickets/ongole-to-hyderabad',\n",
       " 'https://www.redbus.in/bus-tickets/kadapa-to-bangalore',\n",
       " 'https://www.redbus.in/bus-tickets/chittoor-andhra-pradesh-to-bangalore',\n",
       " 'https://www.redbus.in/bus-tickets/visakhapatnam-to-kakinada']"
      ]
     },
     "execution_count": 83,
     "metadata": {},
     "output_type": "execute_result"
    }
   ],
   "source": [
    "bus_routes_link"
   ]
  },
  {
   "cell_type": "code",
   "execution_count": 84,
   "id": "f12cd429-9abc-4679-95e2-63c1e81b867e",
   "metadata": {},
   "outputs": [],
   "source": [
    "url='https://www.redbus.in/bus-tickets/hyderabad-to-vijayawada'\n",
    "driver.get(url)\n",
    "time.sleep(5)"
   ]
  },
  {
   "cell_type": "code",
   "execution_count": 85,
   "id": "26dfda5b-a597-4641-9dad-f3b0cab0cadc",
   "metadata": {},
   "outputs": [],
   "source": [
    "view_buses_button = WebDriverWait(driver, 10).until(\n",
    "                EC.element_to_be_clickable((By.CLASS_NAME, \"button\"))\n",
    "            )\n",
    "driver.execute_script(\"arguments[0].click();\", view_buses_button)\n",
    "time.sleep(5)  # Wait for buses to load\n",
    "            \n",
    "# Scroll down to load all bus items\n",
    "driver.execute_script(\"window.scrollTo(0, document.body.scrollHeight);\")\n",
    "time.sleep(5)  # Wait for the page to load more content"
   ]
  },
  {
   "cell_type": "code",
   "execution_count": 86,
   "id": "eb26536d-67c3-42f1-8805-dc59e6500fef",
   "metadata": {},
   "outputs": [],
   "source": [
    "bus_name_elements = driver.find_elements(By.CLASS_NAME, \"travels.lh-24.f-bold.d-color\")\n",
    "bus_type_elements = driver.find_elements(By.CLASS_NAME, \"bus-type.f-12.m-top-16.l-color.evBus\")\n",
    "departing_time_elements = driver.find_elements(By.CLASS_NAME, \"dp-time.f-19.d-color.f-bold\")\n",
    "duration_elements = driver.find_elements(By.CLASS_NAME, \"dur.l-color.lh-24\")\n",
    "reaching_time_elements = driver.find_elements(By.CLASS_NAME, \"bp-time.f-19.d-color.disp-Inline\")\n",
    "star_rating_elements = driver.find_elements(By.XPATH, \"//div[@class='rating-sec lh-24']\")\n",
    "price_elements = driver.find_elements(By.CLASS_NAME, \"fare.d-block\")"
   ]
  },
  {
   "cell_type": "code",
   "execution_count": 87,
   "id": "a4a64f1b-65da-47b1-b7fb-70cf5407a738",
   "metadata": {},
   "outputs": [
    {
     "data": {
      "text/plain": [
       "['FRESHBUS', 'FRESHBUS', 'FRESHBUS', 'AdSrivastav Travels', '']"
      ]
     },
     "execution_count": 87,
     "metadata": {},
     "output_type": "execute_result"
    }
   ],
   "source": [
    "[bus_name.text for bus_name in bus_name_elements]"
   ]
  },
  {
   "cell_type": "code",
   "execution_count": 88,
   "id": "e4932e80-a07c-4a9f-b435-b3b08c18feb3",
   "metadata": {},
   "outputs": [
    {
     "data": {
      "text/plain": [
       "['499', '549', '449', '', '']"
      ]
     },
     "execution_count": 88,
     "metadata": {},
     "output_type": "execute_result"
    }
   ],
   "source": [
    "[price.text for price in price_elements]"
   ]
  },
  {
   "cell_type": "code",
   "execution_count": 89,
   "id": "a3526cb5-9356-412e-9540-d4db5a59b5c3",
   "metadata": {},
   "outputs": [
    {
     "name": "stdout",
     "output_type": "stream",
     "text": [
      " page:1, route: 0\n"
     ]
    }
   ],
   "source": [
    "# URL of the website\n",
    "url = \"https://www.redbus.in/online-booking/apsrtc/?utm_source=rtchometile\"\n",
    "driver = webdriver.Chrome()\n",
    "driver.maximize_window()\n",
    "driver.get(url)\n",
    "time.sleep(5)  # Wait for the page to load\n",
    "\n",
    "all_bus_details=[]\n",
    "for page in range(1, 2):\n",
    "    \n",
    "    # URL of the website\n",
    "    url = \"https://www.redbus.in/online-booking/apsrtc/?utm_source=rtchometile\"\n",
    "    driver = webdriver.Chrome()\n",
    "    driver.maximize_window()\n",
    "    driver.get(url)\n",
    "    time.sleep(5)  # Wait for the page to load    \n",
    "    \n",
    "    if page > 1:\n",
    "        pagination_tab = WebDriverWait(driver, 10).until(\n",
    "             EC.presence_of_element_located((By.XPATH, f\"//div[contains(@class, 'DC_117_pageTabs')][text()='{page}']\"))\n",
    "            )\n",
    "        driver.execute_script(\"arguments[0].scrollIntoView();\", pagination_tab)\n",
    "        driver.execute_script(\"arguments[0].click();\", pagination_tab)\n",
    "        time.sleep(5)  # Wait for the page to load\n",
    "\n",
    "    route_elements = driver.find_elements(By.CLASS_NAME, 'route')\n",
    "    bus_routes_name=[i.text for i in route_elements]\n",
    "    bus_routes_link = [route.get_attribute('href') for route in route_elements]\n",
    "    \n",
    "    for i in range(len(route_elements[0:1])):\n",
    "        url=bus_routes_link[i]\n",
    "        driver.get(url)\n",
    "        time.sleep(5)\n",
    "\n",
    "        view_buses_button = WebDriverWait(driver, 10).until(\n",
    "                EC.element_to_be_clickable((By.CLASS_NAME, \"button\"))\n",
    "            )\n",
    "        driver.execute_script(\"arguments[0].click();\", view_buses_button)\n",
    "        time.sleep(5)  # Wait for buses to load\n",
    "                    \n",
    "        # Scroll down to load all bus items\n",
    "        driver.execute_script(\"window.scrollTo(0, document.body.scrollHeight);\")\n",
    "        time.sleep(5)  # Wait for the page to load more content\n",
    "\n",
    "        bus_name_elements = driver.find_elements(By.CLASS_NAME, \"travels.lh-24.f-bold.d-color\")\n",
    "        bus_type_elements = driver.find_elements(By.CLASS_NAME, \"bus-type.f-12.m-top-16.l-color.evBus\")\n",
    "        departing_time_elements = driver.find_elements(By.CLASS_NAME, \"dp-time.f-19.d-color.f-bold\")\n",
    "        duration_elements = driver.find_elements(By.CLASS_NAME, \"dur.l-color.lh-24\")\n",
    "        reaching_time_elements = driver.find_elements(By.CLASS_NAME, \"bp-time.f-19.d-color.disp-Inline\")\n",
    "        star_rating_elements = driver.find_elements(By.XPATH, \"//div[@class='rating-sec lh-24']\")\n",
    "        price_elements = driver.find_elements(By.CLASS_NAME, \"fare.d-block\")\n",
    "\n",
    "        print(f\" page:{page}, route: {i}\")"
   ]
  },
  {
   "cell_type": "code",
   "execution_count": 90,
   "id": "d20c5a49-1488-4555-b387-635d5ef4effc",
   "metadata": {},
   "outputs": [
    {
     "name": "stdout",
     "output_type": "stream",
     "text": [
      "              Bus Name                                Bus Type Departing Time  \\\n",
      "0       APSRTC - 35188                  VENNELA (A.C. SLEEPER)          00:40   \n",
      "1        APSRTC - 3563  SUPER LUXURY (NON-AC, 2 + 2 PUSH BACK)          01:00   \n",
      "2       APSRTC - 35266                  VENNELA (A.C. SLEEPER)          01:25   \n",
      "3        APSRTC - 3590  SUPER LUXURY (NON-AC, 2 + 2 PUSH BACK)          01:45   \n",
      "4        APSRTC - 3058                  VENNELA (A.C. SLEEPER)          02:10   \n",
      "..                 ...                                     ...            ...   \n",
      "110           Yolo Bus              A/C Seater / Sleeper (2+1)          22:46   \n",
      "111        PRK Travels          Non A/C Seater / Sleeper (2+1)          22:13   \n",
      "112  IntrCity SmartBus              A/C Seater / Sleeper (2+1)          23:45   \n",
      "113              NueGo               Electric A/C Seater (2+2)          23:15   \n",
      "114      Svkdt travels              A/C Seater / Sleeper (2+1)          23:35   \n",
      "\n",
      "    Duration Reaching Time Star Rating    Price  \n",
      "0    05h 45m         06:25         4.8  INR 737  \n",
      "1    06h 15m         07:15         3.5  INR 448  \n",
      "2    05h 45m         07:10         3.5  INR 737  \n",
      "3    06h 15m         08:00         4.7  INR 448  \n",
      "4    05h 45m         07:55         3.9  INR 737  \n",
      "..       ...           ...         ...      ...  \n",
      "110  06h 38m         05:24         4.2  INR 450  \n",
      "111  07h 12m         05:25         4.0  INR 489  \n",
      "112  06h 20m         06:05         4.1  INR 699  \n",
      "113  07h 20m         06:35         4.3  INR 455  \n",
      "114  05h 55m         05:30         4.1  INR 480  \n",
      "\n",
      "[115 rows x 7 columns]\n"
     ]
    }
   ],
   "source": [
    "import pandas as pd\n",
    "\n",
    "# Extracting text from each element list\n",
    "bus_names = [element.text for element in bus_name_elements]\n",
    "bus_types = [element.text for element in bus_type_elements]\n",
    "departing_times = [element.text for element in departing_time_elements]\n",
    "durations = [element.text for element in duration_elements]\n",
    "reaching_times = [element.text for element in reaching_time_elements]\n",
    "star_ratings = [element.text for element in star_rating_elements]\n",
    "prices = [element.text for element in price_elements]\n",
    "\n",
    "# Create a list of dictionaries\n",
    "bus_data = []\n",
    "for i in range(len(bus_names)):\n",
    "    bus_data.append({\n",
    "        'Bus Name': bus_names[i],\n",
    "        'Bus Type': bus_types[i],\n",
    "        'Departing Time': departing_times[i],\n",
    "        'Duration': durations[i],\n",
    "        'Reaching Time': reaching_times[i],\n",
    "        'Star Rating': star_ratings[i] if i < len(star_ratings) else None, # Handle missing ratings\n",
    "        'Price': prices[i] if i < len(prices) else None # Handle missing prices\n",
    "    })\n",
    "\n",
    "# Convert list of dictionaries to a DataFrame\n",
    "df = pd.DataFrame(bus_data)\n",
    "\n",
    "# Display the DataFrame\n",
    "print(df)\n"
   ]
  },
  {
   "cell_type": "code",
   "execution_count": 110,
   "id": "63d3cd15-7b06-4097-99e5-b8e1b4abfafa",
   "metadata": {},
   "outputs": [],
   "source": [
    "df.to_csv('apsrtc.csv')"
   ]
  },
  {
   "cell_type": "code",
   "execution_count": null,
   "id": "d3ae2ddf-e792-48ad-93e9-bbaca077701c",
   "metadata": {},
   "outputs": [],
   "source": []
  }
 ],
 "metadata": {
  "kernelspec": {
   "display_name": "Python 3 (ipykernel)",
   "language": "python",
   "name": "python3"
  },
  "language_info": {
   "codemirror_mode": {
    "name": "ipython",
    "version": 3
   },
   "file_extension": ".py",
   "mimetype": "text/x-python",
   "name": "python",
   "nbconvert_exporter": "python",
   "pygments_lexer": "ipython3",
   "version": "3.12.4"
  }
 },
 "nbformat": 4,
 "nbformat_minor": 5
}
