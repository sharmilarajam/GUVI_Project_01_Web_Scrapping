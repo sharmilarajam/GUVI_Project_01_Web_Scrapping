{
 "cells": [
  {
   "cell_type": "code",
   "execution_count": 242,
   "id": "330c7422-321d-4ebb-8407-216656451503",
   "metadata": {},
   "outputs": [],
   "source": [
    "from selenium import webdriver\n",
    "from selenium.webdriver.common.by import By\n",
    "from selenium.webdriver.support.ui import WebDriverWait\n",
    "from selenium.webdriver.support import expected_conditions as EC\n",
    "import time\n",
    "import pandas as pd"
   ]
  },
  {
   "cell_type": "code",
   "execution_count": 244,
   "id": "5bfafb78-667e-4e30-af5a-3d222f367b69",
   "metadata": {},
   "outputs": [],
   "source": [
    "# URL of the website\n",
    "url = \"https://www.redbus.in/online-booking/apsrtc/?utm_source=rtchometile\"\n",
    "driver = webdriver.Chrome()\n",
    "driver.maximize_window()\n",
    "driver.get(url)\n",
    "time.sleep(5)  # Wait for the page to load"
   ]
  },
  {
   "cell_type": "code",
   "execution_count": 245,
   "id": "061fe01d-c9f5-4855-9582-856461335dee",
   "metadata": {},
   "outputs": [],
   "source": [
    "route_elements = driver.find_elements(By.CLASS_NAME, 'route')"
   ]
  },
  {
   "cell_type": "markdown",
   "id": "4fc9763f-4cee-4d2b-be80-6a7b4b04eec2",
   "metadata": {},
   "source": [
    "#### WebElement: It is a special object provided by the Selenium WebDriver that represents an element on a web page. This object provides methods and properties to interact with the web element, such as:\n",
    "\n",
    "##### click(): to click the element.\n",
    "##### text: to get the text content of the element.\n",
    "##### get_attribute(): to retrieve the value of an attribute, like href for links.\n",
    "##### is_displayed(): to check if the element is visible on the page."
   ]
  },
  {
   "cell_type": "code",
   "execution_count": 254,
   "id": "e1081d52-e43d-4718-b5d6-dac7c7619f0b",
   "metadata": {},
   "outputs": [
    {
     "name": "stdout",
     "output_type": "stream",
     "text": [
      "Hyderabad to Vijayawada\n",
      "https://www.redbus.in/bus-tickets/hyderabad-to-vijayawada\n"
     ]
    }
   ],
   "source": [
    "### example for understanding\n",
    "print(route_elements[0].text)\n",
    "print(route_elements[0].get_attribute('href'))"
   ]
  },
  {
   "cell_type": "code",
   "execution_count": 276,
   "id": "5b9a2505-4f80-4cf5-bda5-b6f8511b18c6",
   "metadata": {},
   "outputs": [],
   "source": [
    "# for i in range(len(route_elements)):\n",
    "#     print(route_elements[i].text)    "
   ]
  },
  {
   "cell_type": "code",
   "execution_count": 278,
   "id": "9e75c6b2-8883-4145-b007-d62eb5605349",
   "metadata": {},
   "outputs": [],
   "source": [
    "bus_routes_name=[i.text for i in route_elements]    "
   ]
  },
  {
   "cell_type": "code",
   "execution_count": 280,
   "id": "37b94570-3f2a-4cbf-a978-60b4e6a306b5",
   "metadata": {},
   "outputs": [
    {
     "data": {
      "text/plain": [
       "['Hyderabad to Vijayawada',\n",
       " 'Vijayawada to Hyderabad',\n",
       " 'Hyderabad to Ongole',\n",
       " 'Kakinada to Visakhapatnam',\n",
       " 'Bangalore to Tirupati',\n",
       " 'Bangalore to Kadapa',\n",
       " 'Ongole to Hyderabad',\n",
       " 'Kadapa to Bangalore',\n",
       " 'Chittoor (Andhra Pradesh) to Bangalore',\n",
       " 'Visakhapatnam to Kakinada']"
      ]
     },
     "execution_count": 280,
     "metadata": {},
     "output_type": "execute_result"
    }
   ],
   "source": [
    "bus_routes_name"
   ]
  },
  {
   "cell_type": "code",
   "execution_count": 282,
   "id": "a5df9ccd-2e0a-477c-8f7c-84f3ef7a2232",
   "metadata": {},
   "outputs": [],
   "source": [
    "bus_routes_link = [route.get_attribute('href') for route in route_elements]"
   ]
  },
  {
   "cell_type": "code",
   "execution_count": 284,
   "id": "26ae3a16-b3be-40d0-a510-efec38f596b0",
   "metadata": {},
   "outputs": [
    {
     "data": {
      "text/plain": [
       "['https://www.redbus.in/bus-tickets/hyderabad-to-vijayawada',\n",
       " 'https://www.redbus.in/bus-tickets/vijayawada-to-hyderabad',\n",
       " 'https://www.redbus.in/bus-tickets/hyderabad-to-ongole',\n",
       " 'https://www.redbus.in/bus-tickets/kakinada-to-visakhapatnam',\n",
       " 'https://www.redbus.in/bus-tickets/bangalore-to-tirupathi',\n",
       " 'https://www.redbus.in/bus-tickets/bangalore-to-kadapa',\n",
       " 'https://www.redbus.in/bus-tickets/ongole-to-hyderabad',\n",
       " 'https://www.redbus.in/bus-tickets/kadapa-to-bangalore',\n",
       " 'https://www.redbus.in/bus-tickets/chittoor-andhra-pradesh-to-bangalore',\n",
       " 'https://www.redbus.in/bus-tickets/visakhapatnam-to-kakinada']"
      ]
     },
     "execution_count": 284,
     "metadata": {},
     "output_type": "execute_result"
    }
   ],
   "source": [
    "bus_routes_link"
   ]
  },
  {
   "cell_type": "code",
   "execution_count": 306,
   "id": "f12cd429-9abc-4679-95e2-63c1e81b867e",
   "metadata": {},
   "outputs": [],
   "source": [
    "url='https://www.redbus.in/bus-tickets/hyderabad-to-vijayawada'\n",
    "driver.get(url)\n",
    "time.sleep(5)"
   ]
  },
  {
   "cell_type": "code",
   "execution_count": 308,
   "id": "26dfda5b-a597-4641-9dad-f3b0cab0cadc",
   "metadata": {},
   "outputs": [],
   "source": [
    "view_buses_button = WebDriverWait(driver, 10).until(\n",
    "                EC.element_to_be_clickable((By.CLASS_NAME, \"button\"))\n",
    "            )\n",
    "driver.execute_script(\"arguments[0].click();\", view_buses_button)\n",
    "time.sleep(5)  # Wait for buses to load\n",
    "            \n",
    "# Scroll down to load all bus items\n",
    "driver.execute_script(\"window.scrollTo(0, document.body.scrollHeight);\")\n",
    "time.sleep(5)  # Wait for the page to load more content"
   ]
  },
  {
   "cell_type": "code",
   "execution_count": 310,
   "id": "eb26536d-67c3-42f1-8805-dc59e6500fef",
   "metadata": {},
   "outputs": [],
   "source": [
    "bus_name_elements = driver.find_elements(By.CLASS_NAME, \"travels.lh-24.f-bold.d-color\")\n",
    "bus_type_elements = driver.find_elements(By.CLASS_NAME, \"bus-type.f-12.m-top-16.l-color.evBus\")\n",
    "departing_time_elements = driver.find_elements(By.CLASS_NAME, \"dp-time.f-19.d-color.f-bold\")\n",
    "duration_elements = driver.find_elements(By.CLASS_NAME, \"dur.l-color.lh-24\")\n",
    "reaching_time_elements = driver.find_elements(By.CLASS_NAME, \"bp-time.f-19.d-color.disp-Inline\")\n",
    "star_rating_elements = driver.find_elements(By.XPATH, \"//div[@class='rating-sec lh-24']\")\n",
    "price_elements = driver.find_elements(By.CLASS_NAME, \"fare.d-block\")"
   ]
  },
  {
   "cell_type": "code",
   "execution_count": 314,
   "id": "a4a64f1b-65da-47b1-b7fb-70cf5407a738",
   "metadata": {},
   "outputs": [
    {
     "data": {
      "text/plain": [
       "['APSRTC - 35188',\n",
       " 'APSRTC - 3563',\n",
       " 'APSRTC - 35266',\n",
       " 'APSRTC - 3590',\n",
       " 'APSRTC - 3058',\n",
       " 'APSRTC - 3548',\n",
       " 'APSRTC - 35197',\n",
       " 'APSRTC - 3558',\n",
       " 'APSRTC - 35190',\n",
       " 'APSRTC - 3540',\n",
       " 'APSRTC - 35267',\n",
       " 'APSRTC - 3586',\n",
       " 'APSRTC - 35062',\n",
       " 'APSRTC - 35196',\n",
       " 'APSRTC - 35274',\n",
       " 'APSRTC - 4045',\n",
       " 'APSRTC - 23701',\n",
       " 'APSRTC - 2457',\n",
       " 'APSRTC - 3574',\n",
       " 'APSRTC - 3592',\n",
       " 'APSRTC - 3572',\n",
       " 'APSRTC - 3822',\n",
       " 'APSRTC - 9401',\n",
       " 'APSRTC - 3749',\n",
       " 'APSRTC - 4726',\n",
       " 'APSRTC - 9357',\n",
       " 'APSRTC - 40569',\n",
       " 'APSRTC - 3634',\n",
       " 'APSRTC - 23508',\n",
       " 'APSRTC - 3598',\n",
       " 'APSRTC - 35086',\n",
       " 'APSRTC - 3580',\n",
       " 'APSRTC - 24256',\n",
       " 'APSRTC - 9319',\n",
       " 'APSRTC - 3576',\n",
       " 'APSRTC - 35154',\n",
       " 'APSRTC - 9363',\n",
       " 'APSRTC - 24291',\n",
       " 'APSRTC - 3578',\n",
       " 'APSRTC - 3859',\n",
       " 'APSRTC - 3722',\n",
       " 'APSRTC - 3356',\n",
       " 'APSRTC - 3546',\n",
       " 'APSRTC - 3500',\n",
       " 'APSRTC - 3376',\n",
       " 'APSRTC - 2561',\n",
       " 'APSRTC - 3358',\n",
       " 'APSRTC - 2674',\n",
       " 'APSRTC - 3366',\n",
       " 'APSRTC - 3360',\n",
       " 'APSRTC - 2575',\n",
       " 'APSRTC - 2680',\n",
       " 'APSRTC - 4972',\n",
       " 'APSRTC - 4916',\n",
       " 'APSRTC - 2898',\n",
       " 'APSRTC - 2563',\n",
       " 'APSRTC - 4894',\n",
       " 'APSRTC - 2573',\n",
       " 'APSRTC - 2798',\n",
       " 'APSRTC - 2688',\n",
       " 'APSRTC - 2678',\n",
       " 'APSRTC - 2786',\n",
       " 'APSRTC - 3861',\n",
       " 'APSRTC - 3622',\n",
       " 'APSRTC - 2549',\n",
       " 'APSRTC - 37801',\n",
       " 'APSRTC - 24262',\n",
       " 'APSRTC - 4179',\n",
       " 'APSRTC - 3971',\n",
       " 'APSRTC - 4880',\n",
       " 'APSRTC - 4898',\n",
       " 'APSRTC - 3962',\n",
       " 'APSRTC - 3697',\n",
       " 'APSRTC - 3883',\n",
       " 'APSRTC - 4795',\n",
       " 'FRESHBUS',\n",
       " 'FRESHBUS',\n",
       " 'GMRK Tours and Travels',\n",
       " 'AdYolo Bus',\n",
       " 'IntrCity SmartBus',\n",
       " 'FRESHBUS',\n",
       " 'IntrCity SmartBus',\n",
       " 'AdYolo Bus',\n",
       " 'LVR Travels',\n",
       " 'Sri KVR Travels',\n",
       " 'Svkdt travels',\n",
       " 'Neelachal Travels',\n",
       " 'FRESHBUS',\n",
       " 'FRESHBUS',\n",
       " 'IntrCity SmartBus',\n",
       " 'Zingbus Plus',\n",
       " 'NueGo',\n",
       " 'FRESHBUS',\n",
       " 'NueGo',\n",
       " 'IntrCity SmartBus',\n",
       " 'IntrCity SmartBus',\n",
       " 'NueGo',\n",
       " 'FRESHBUS',\n",
       " 'NueGo',\n",
       " 'NueGo',\n",
       " 'IntrCity SmartBus',\n",
       " 'NueGo',\n",
       " 'LVR Travels',\n",
       " 'Sri Durga Malleswari Travels',\n",
       " 'NueGo',\n",
       " 'FRESHBUS',\n",
       " 'NueGo',\n",
       " 'NueGo',\n",
       " 'NueGo',\n",
       " 'BSR Tours And Travels',\n",
       " 'Zingbus Plus',\n",
       " 'NueGo',\n",
       " 'Svkdt travels',\n",
       " 'NueGo',\n",
       " 'Zingbus Plus']"
      ]
     },
     "execution_count": 314,
     "metadata": {},
     "output_type": "execute_result"
    }
   ],
   "source": [
    "[bus_name.text for bus_name in bus_name_elements]"
   ]
  },
  {
   "cell_type": "code",
   "execution_count": 316,
   "id": "e4932e80-a07c-4a9f-b435-b3b08c18feb3",
   "metadata": {},
   "outputs": [
    {
     "data": {
      "text/plain": [
       "['INR 737',\n",
       " 'INR 412',\n",
       " 'INR 737',\n",
       " 'INR 412',\n",
       " 'INR 737',\n",
       " 'INR 412',\n",
       " 'INR 633',\n",
       " 'INR 633',\n",
       " 'INR 633',\n",
       " 'INR 412',\n",
       " 'INR 498',\n",
       " 'INR 633',\n",
       " 'INR 412',\n",
       " 'INR 412',\n",
       " 'INR 633',\n",
       " 'INR 412',\n",
       " 'INR 436',\n",
       " 'INR 528',\n",
       " 'INR 633',\n",
       " 'INR 412',\n",
       " 'INR 633',\n",
       " 'INR 436',\n",
       " 'INR 412',\n",
       " 'INR 412',\n",
       " 'INR 528',\n",
       " 'INR 412',\n",
       " 'INR 414',\n",
       " 'INR 633',\n",
       " 'INR 528',\n",
       " 'INR 412',\n",
       " 'INR 633',\n",
       " 'INR 633',\n",
       " 'INR 528',\n",
       " 'INR 412',\n",
       " 'INR 633',\n",
       " 'INR 412',\n",
       " 'INR 412',\n",
       " 'INR 528',\n",
       " 'INR 633',\n",
       " 'INR 633',\n",
       " 'INR 412',\n",
       " 'INR 595',\n",
       " 'INR 633',\n",
       " 'INR 436',\n",
       " 'INR 436',\n",
       " 'INR 528',\n",
       " 'INR 436',\n",
       " 'INR 436',\n",
       " 'INR 436',\n",
       " 'INR 670',\n",
       " 'INR 595',\n",
       " 'INR 781',\n",
       " 'INR 436',\n",
       " 'INR 436',\n",
       " 'INR 565',\n",
       " 'INR 528',\n",
       " 'INR 436',\n",
       " 'INR 670',\n",
       " 'INR 528',\n",
       " 'INR 436',\n",
       " 'INR 595',\n",
       " 'INR 436',\n",
       " 'INR 498',\n",
       " 'INR 412',\n",
       " 'INR 595',\n",
       " 'INR 528',\n",
       " 'INR 469',\n",
       " 'INR 670',\n",
       " 'INR 436',\n",
       " 'INR 565',\n",
       " 'INR 436',\n",
       " 'INR 528',\n",
       " 'INR 607',\n",
       " 'INR 412',\n",
       " 'INR 541',\n",
       " '398',\n",
       " '398',\n",
       " 'INR 499',\n",
       " 'INR 480',\n",
       " 'INR 639',\n",
       " '398',\n",
       " 'INR 509',\n",
       " 'INR 450',\n",
       " '449',\n",
       " 'INR 789',\n",
       " 'INR 589',\n",
       " '900',\n",
       " '549',\n",
       " '398',\n",
       " 'INR 739',\n",
       " '464',\n",
       " 'INR 439',\n",
       " '499',\n",
       " 'INR 375',\n",
       " 'INR 509',\n",
       " 'INR 699',\n",
       " 'INR 497',\n",
       " '499',\n",
       " 'INR 438',\n",
       " 'INR 349',\n",
       " 'INR 519',\n",
       " 'INR 349',\n",
       " '404',\n",
       " '713',\n",
       " 'INR 349',\n",
       " '649',\n",
       " 'INR 612',\n",
       " 'INR 375',\n",
       " 'INR 349',\n",
       " 'INR 610',\n",
       " '706',\n",
       " 'INR 455',\n",
       " 'INR 489',\n",
       " 'INR 402',\n",
       " '432']"
      ]
     },
     "execution_count": 316,
     "metadata": {},
     "output_type": "execute_result"
    }
   ],
   "source": [
    "[price.text for price in price_elements]"
   ]
  }
 ],
 "metadata": {
  "kernelspec": {
   "display_name": "Python 3 (ipykernel)",
   "language": "python",
   "name": "python3"
  },
  "language_info": {
   "codemirror_mode": {
    "name": "ipython",
    "version": 3
   },
   "file_extension": ".py",
   "mimetype": "text/x-python",
   "name": "python",
   "nbconvert_exporter": "python",
   "pygments_lexer": "ipython3",
   "version": "3.12.4"
  }
 },
 "nbformat": 4,
 "nbformat_minor": 5
}
